{
 "cells": [
  {
   "cell_type": "markdown",
   "metadata": {},
   "source": [
    "1. Formalization\n",
    "\n",
    "Objective Function:  We have a function f(x, y) that we want to minimize.  This function represents the \"landscape\" where we're trying to find the lowest point.  \n",
    "\n",
    "Gradient: The gradient of f(x, y), denoted as ∇f(x, y), is a vector that points in the direction of the steepest ascent of the function.  It's calculated as:  \n",
    "\n",
    "`∇f(x, y) = (∂f/∂x, ∂f/∂y)`\n",
    "\n",
    "Where ∂f/∂x is the partial derivative of f with respect to x, and ∂f/∂y is the partial derivative of f with respect to y.  \n",
    "\n",
    "Gradient Descent Algorithm:  \n",
    "\n",
    "Initialization: Start with an initial guess for the minimum point (x₀, y₀).  \n",
    "\n",
    "Iteration: Repeat the following steps until a convergence criterion is met:  \n",
    "\n",
    "a. Calculate the gradient: Compute ∇f(xₙ, yₙ) at the current point (xₙ, yₙ).  \n",
    "\n",
    "b. Update the position: Move in the opposite direction of the gradient.  This is because the gradient points uphill, and we want to go downhill. The update rule is:  \n",
    "\n",
    "`xₙ₊₁ = xₙ - α * ∂f/∂x(xₙ, yₙ)`  \n",
    "`yₙ₊₁ = yₙ - α * ∂f/∂y(xₙ, yₙ)`\n",
    "\n",
    "Where α (alpha) is the learning rate. It controls the step size we take in the direction of the negative gradient.  \n",
    "\n",
    "c. Convergence Check: Check if the change in the function value or the position is smaller than a predefined tolerance, or if a maximum number of iterations has been reached. If so, stop.  \n",
    "\n",
    "Result: The final point (xₙ, yₙ) is the approximate location of the minimum.  "
   ]
  },
  {
   "cell_type": "markdown",
   "metadata": {},
   "source": []
  },
  {
   "cell_type": "code",
   "execution_count": 39,
   "metadata": {},
   "outputs": [],
   "source": [
    "import numpy as np\n",
    "\n",
    "def gradient_descent(f, df_dx, df_dy, x0, y0, learning_rate=0.01, tolerance=1e-6, max_iterations=10000):\n",
    "    \"\"\"\n",
    "    Performs gradient descent to find the minimum of a 2D function.\n",
    "\n",
    "    Args:\n",
    "        f: The function to minimize (takes x and y as arguments).\n",
    "        df_dx: The partial derivative of f with respect to x.\n",
    "        df_dy: The partial derivative of f with respect to y.\n",
    "        x0: Initial guess for x.\n",
    "        y0: Initial guess for y.\n",
    "        learning_rate: The learning rate (alpha).\n",
    "        tolerance: The convergence tolerance.\n",
    "        max_iterations: The maximum number of iterations.\n",
    "\n",
    "    Returns:\n",
    "        A tuple (x, y) representing the approximate location of the minimum.\n",
    "        Returns None if the algorithm doesn't converge within max_iterations\n",
    "    \"\"\"\n",
    "\n",
    "    x = x0\n",
    "    y = y0\n",
    "    max_value = 10e5\n",
    "    \n",
    "    for i in range(max_iterations):\n",
    "        grad_x = df_dx(x, y)\n",
    "        grad_y = df_dy(x, y)\n",
    "\n",
    "        x_new = x - learning_rate * grad_x\n",
    "        y_new = y - learning_rate * grad_y\n",
    "\n",
    "        if abs(f(x_new, y_new)) >= max_value: # Function value is diverging\n",
    "            return None, None, \"Diverged (Function Value)\"\n",
    "        if abs(f(x_new, y_new) - f(x, y)) < tolerance: # Fucntion value is converging\n",
    "            return x_new, y_new, \"Converged (Function Value)\"\n",
    "        elif np.sqrt((x_new - x)**2 + (y_new - y)**2) < tolerance: # Parameters are converging\n",
    "            return x_new, y_new, \"Converged (Parameters)\"\n",
    "        elif np.sqrt(grad_x**2 + grad_y**2) < tolerance: # Gradient is converging\n",
    "            return x_new, y_new, \"Converged (Gradient)\"\n",
    "\n",
    "        x = x_new\n",
    "        y = y_new\n",
    "    \n",
    "    return None, None  # Did not converge\n",
    "\n"
   ]
  },
  {
   "cell_type": "code",
   "execution_count": 40,
   "metadata": {},
   "outputs": [
    {
     "name": "stdout",
     "output_type": "stream",
     "text": [
      "Minimum found at: x = 0.002180504536547192, y = 0.004361009073094384. \n",
      "Status: Converged (Function Value)\n"
     ]
    }
   ],
   "source": [
    "# Example usage:  Minimize f(x, y) = x^2 + y^2\n",
    "def f(x, y):\n",
    "    return x**2 + y**2\n",
    "\n",
    "def df_dx(x, y):\n",
    "    return 2*x\n",
    "\n",
    "def df_dy(x, y):\n",
    "    return 2*y\n",
    "\n",
    "x_min, y_min, status = gradient_descent(f, df_dx, df_dy, 5, 10)  # Start at (5, 10)\n",
    "\n",
    "if x_min is not None:\n",
    "    print(f\"Minimum found at: x = {x_min}, y = {y_min}. \\nStatus: {status}\")\n",
    "else:\n",
    "    print(\"Gradient descent did not converge.\")\n",
    "\n"
   ]
  },
  {
   "cell_type": "code",
   "execution_count": 45,
   "metadata": {},
   "outputs": [
    {
     "name": "stdout",
     "output_type": "stream",
     "text": [
      "Minimum found at: x = 1.996549701958056, y = 2.996549701958057. \n",
      "Status: Converged (Function Value)\n"
     ]
    }
   ],
   "source": [
    "\n",
    "# Another example: f(x,y) = (x-2)^2 + (y-3)^2\n",
    "def f2(x, y):\n",
    "    return (x-2)**2 + (y-3)**2\n",
    "\n",
    "def df2_dx(x, y):\n",
    "    return 2*(x-2)\n",
    "\n",
    "def df2_dy(x, y):\n",
    "    return 2*(y-3)\n",
    "\n",
    "x_min2, y_min2, status = gradient_descent(f2, df2_dx, df2_dy, -1, 0)\n",
    "\n",
    "if x_min2 is not None:\n",
    "    print(f\"Minimum found at: x = {x_min2}, y = {y_min2}. \\nStatus: {status}\")\n",
    "else:\n",
    "    print(f\"Gradient descent did not converge. Status: {status}.\")"
   ]
  },
  {
   "cell_type": "code",
   "execution_count": 46,
   "metadata": {},
   "outputs": [
    {
     "name": "stdout",
     "output_type": "stream",
     "text": [
      "Minimum found at: x = 2.0005194569339033, y = 3.0022799013949433. \n",
      "Status: Converged (Function Value)\n"
     ]
    }
   ],
   "source": [
    "\n",
    "# Another example: f(x,y) = y(x-2)^2 + x(y-3)^2\n",
    "def f2(x, y):\n",
    "    return y*((x-2)**2) + x*((y-3)**2)\n",
    "\n",
    "def df2_dx(x, y):\n",
    "    return 2*(x-2)*y + (y-3)**2\n",
    "\n",
    "def df2_dy(x, y):\n",
    "    return 2*(y-3)*x + (x-2)**2\n",
    "\n",
    "x_min2, y_min2, status = gradient_descent(f2, df2_dx, df2_dy, 5, 5)\n",
    "\n",
    "if x_min2 is not None:\n",
    "    print(f\"Minimum found at: x = {x_min2}, y = {y_min2}. \\nStatus: {status}\")\n",
    "else:\n",
    "    print(\"Gradient descent did not converge.\")"
   ]
  },
  {
   "cell_type": "code",
   "execution_count": 48,
   "metadata": {},
   "outputs": [
    {
     "name": "stdout",
     "output_type": "stream",
     "text": [
      "Gradient descent did not converge. Status: Diverged (Function Value)\n"
     ]
    }
   ],
   "source": [
    "\n",
    "# Another example: f(x,y) = y(x-2)^2 + x(y-3)^2\n",
    "def f2(x, y):\n",
    "    #print(f\"x:{x}, y:{y}, Function value: {y*((x-2)**2) + x*((y-3)**2)}\")\n",
    "    return y*((x-2)**2) + x*((y-3)**2)\n",
    "\n",
    "def df2_dx(x, y):\n",
    "    return 2*(x-2)*y + (y-3)**2\n",
    "\n",
    "def df2_dy(x, y):\n",
    "    return 2*(y-3)*x + (x-2)**2\n",
    "\n",
    "x_min2, y_min2, status = gradient_descent(f2, df2_dx, df2_dy, 0, -1)\n",
    "\n",
    "if x_min2 is not None:\n",
    "    print(f\"Minimum found at: x = {x_min2}, y = {y_min2}. \\nStatus: {status}\")\n",
    "else:\n",
    "    print(f\"Gradient descent did not converge. Status: {status}\")"
   ]
  },
  {
   "cell_type": "code",
   "execution_count": null,
   "metadata": {},
   "outputs": [],
   "source": []
  }
 ],
 "metadata": {
  "kernelspec": {
   "display_name": ".venv",
   "language": "python",
   "name": "python3"
  },
  "language_info": {
   "codemirror_mode": {
    "name": "ipython",
    "version": 3
   },
   "file_extension": ".py",
   "mimetype": "text/x-python",
   "name": "python",
   "nbconvert_exporter": "python",
   "pygments_lexer": "ipython3",
   "version": "3.12.8"
  }
 },
 "nbformat": 4,
 "nbformat_minor": 2
}
